{
 "cells": [
  {
   "cell_type": "code",
   "execution_count": 56,
   "id": "087e135a",
   "metadata": {},
   "outputs": [],
   "source": [
    "import pandas as pd\n",
    "from scipy.stats import shapiro,levene,ttest_ind,mannwhitneyu\n",
    "from openpyxl import Workbook\n",
    "from openpyxl.styles import PatternFill"
   ]
  },
  {
   "cell_type": "code",
   "execution_count": 57,
   "id": "dcb316db",
   "metadata": {},
   "outputs": [],
   "source": [
    "df = pd.read_csv('eatclub_ab_daily.csv')"
   ]
  },
  {
   "cell_type": "code",
   "execution_count": 58,
   "id": "c01c57a2",
   "metadata": {},
   "outputs": [],
   "source": [
    "group_column = 'Gruppe'\n",
    "groups_to_compare=['doi_A','doi_B']\n",
    "\n",
    "normality_dict = {}\n",
    "homogeneity_dict = {}\n",
    "\n",
    "dataset1 = df[df[group_column]==groups_to_compare[0]]\n",
    "dataset2 = df[df[group_column]==groups_to_compare[1]]\n",
    "\n",
    "columns_to_compare = list(df.columns[4:])"
   ]
  },
  {
   "cell_type": "code",
   "execution_count": 63,
   "id": "a06f7ec3",
   "metadata": {},
   "outputs": [],
   "source": [
    "def normality_test(df1,df2,column):\n",
    "    _, p = shapiro(df1[column])\n",
    "    _, p2 = shapiro(df2[column])\n",
    "    if p > 0.05 and p2 > 0.05:\n",
    "        return True\n",
    "    else:\n",
    "        return False\n",
    "    \n",
    "    \n",
    "def homogeneity_test(df1,df2,column):\n",
    "    stat, p = levene(df1[column], df2[column])\n",
    "    if p > 0.05: \n",
    "        return True\n",
    "    else:\n",
    "        return False\n"
   ]
  },
  {
   "cell_type": "code",
   "execution_count": 64,
   "id": "2fdfb75b",
   "metadata": {
    "scrolled": true
   },
   "outputs": [],
   "source": [
    "for column in columns_to_compare:\n",
    "    normality_dict[column] = normality_test(dataset1,dataset2,column)\n",
    "    homogeneity_dict[column] = homogeneity_test(dataset1,dataset2,column)"
   ]
  },
  {
   "cell_type": "code",
   "execution_count": 65,
   "id": "f9a59e5c",
   "metadata": {},
   "outputs": [],
   "source": [
    "method = None\n",
    "results = pd.DataFrame(columns=['Gruppe 1', 'Gruppe 2', 'KPI', 'Durchschnitt 1', 'Durchschnitt 2' , 'p', 'Signifikant', 'Testmethode'])\n",
    "alpha = 0.05    \n",
    "for key,value in normality_dict.items():\n",
    "            if value == True and homogeneity_dict[key] == True:\n",
    "                t, p = ttest_ind(dataset1[key], dataset2[key])\n",
    "                method = 'T-Test'\n",
    "            else:\n",
    "                t, p = mannwhitneyu(dataset1[key], dataset2[key], alternative='two-sided')  \n",
    "                method = 'Mann-Whitney U'\n",
    "            results_new_row = {\n",
    "            'Gruppe 1': groups_to_compare[0],\n",
    "            'Gruppe 2': groups_to_compare[1],\n",
    "            'KPI': key,\n",
    "            'Durchschnitt 1': dataset1[key].mean(),\n",
    "            'Durchschnitt 2': dataset2[key].mean(),\n",
    "            'p': p,\n",
    "            'Signifikant': True if p < alpha else False,\n",
    "            'Testmethode': method\n",
    "             }\n",
    "            results_new_row = pd.DataFrame([results_new_row])\n",
    "            results = pd.concat([results, results_new_row], ignore_index=True)"
   ]
  },
  {
   "cell_type": "code",
   "execution_count": 62,
   "id": "6bbb10a2",
   "metadata": {},
   "outputs": [
    {
     "name": "stdout",
     "output_type": "stream",
     "text": [
      "DataFrame with cell color formatting has been saved to eatclub_ab_test_output.xlsx\n"
     ]
    }
   ],
   "source": [
    "def format_durchschnitt(row):\n",
    "    formatting = []\n",
    "    if row['Durchschnitt 1'] > row['Durchschnitt 2']:\n",
    "        formatting.extend(['background-color: green' if cell == row['Durchschnitt 1'] else 'background-color: red' for cell in row])\n",
    "    else:\n",
    "        formatting.extend(['background-color: green' if cell == row['Durchschnitt 2'] else 'background-color: red' for cell in row])\n",
    "    return formatting\n",
    "\n",
    "excel_file_path = 'eatclub_ab_test_output.xlsx'\n",
    "\n",
    "# Apply the custom formatting function to each row\n",
    "results_style = results.style.apply(format_durchschnitt, axis=1, subset=['Durchschnitt 1', 'Durchschnitt 2'])\n",
    "\n",
    "# Create an Excel writer\n",
    "excel_writer = pd.ExcelWriter(excel_file_path, engine='openpyxl')\n",
    "excel_writer.book = Workbook()\n",
    "\n",
    "# Write the DataFrame to the Excel file with formatting\n",
    "results_style.to_excel(excel_writer, sheet_name='Results', index=False)\n",
    "\n",
    "# Access the sheet\n",
    "excel_writer.sheets['Results'].title = 'AB Test Results'\n",
    "\n",
    "# Save the Excel file\n",
    "excel_writer.save()\n",
    "\n",
    "print(f\"DataFrame with cell color formatting has been saved to {excel_file_path}\")"
   ]
  }
 ],
 "metadata": {
  "kernelspec": {
   "display_name": "Python 3 (ipykernel)",
   "language": "python",
   "name": "python3"
  },
  "language_info": {
   "codemirror_mode": {
    "name": "ipython",
    "version": 3
   },
   "file_extension": ".py",
   "mimetype": "text/x-python",
   "name": "python",
   "nbconvert_exporter": "python",
   "pygments_lexer": "ipython3",
   "version": "3.9.13"
  }
 },
 "nbformat": 4,
 "nbformat_minor": 5
}
